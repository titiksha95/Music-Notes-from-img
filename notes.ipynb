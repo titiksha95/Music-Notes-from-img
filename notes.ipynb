{
 "cells": [
  {
   "cell_type": "code",
   "execution_count": 2,
   "id": "2fb4bc7e",
   "metadata": {},
   "outputs": [
    {
     "name": "stdout",
     "output_type": "stream",
     "text": [
      "Requirement already satisfied: numpy in c:\\users\\jangi\\anaconda3\\lib\\site-packages (1.26.4)\n",
      "Requirement already satisfied: pillow in c:\\users\\jangi\\anaconda3\\lib\\site-packages (10.4.0)\n",
      "Requirement already satisfied: pygame in c:\\users\\jangi\\anaconda3\\lib\\site-packages (2.6.1)\n",
      "Requirement already satisfied: pydub in c:\\users\\jangi\\anaconda3\\lib\\site-packages (0.25.1)\n",
      "Note: you may need to restart the kernel to use updated packages.\n"
     ]
    }
   ],
   "source": [
    "pip install numpy pillow pygame pydub"
   ]
  },
  {
   "cell_type": "code",
   "execution_count": 1,
   "id": "cb5d2885",
   "metadata": {},
   "outputs": [
    {
     "name": "stdout",
     "output_type": "stream",
     "text": [
      "pygame 2.6.1 (SDL 2.28.4, Python 3.12.7)\n",
      "Hello from the pygame community. https://www.pygame.org/contribute.html\n",
      "[→] Starting conversion: C:/Users/jangi/OneDrive/Desktop/DreamTeam/Music Note/download.jpg\n",
      "[→] Converting image to detailed audio...\n"
     ]
    },
    {
     "name": "stderr",
     "output_type": "stream",
     "text": [
      "C:\\Users\\jangi\\AppData\\Local\\Temp\\ipykernel_13252\\274858454.py:62: RuntimeWarning: overflow encountered in scalar add\n",
      "  brightness = (r + g + b) / 3.0\n"
     ]
    },
    {
     "name": "stdout",
     "output_type": "stream",
     "text": [
      "[→] Saving stereo audio as MP3...\n",
      "[✔] MP3 saved: output_music.mp3\n",
      "[✔] Done! Duration: 69.12s | Output: output_music.mp3\n"
     ]
    }
   ],
   "source": [
    "import cv2\n",
    "import numpy as np\n",
    "import pygame\n",
    "from PIL import Image\n",
    "import os\n",
    "from pydub import AudioSegment\n",
    "\n",
    "class ImageToMusicConverter:\n",
    "    def __init__(self):\n",
    "        pygame.mixer.pre_init(frequency=44100, size=-16, channels=2, buffer=512)\n",
    "        pygame.mixer.init()\n",
    "\n",
    "        self.note_frequencies = {\n",
    "            60: 261.63, 61: 277.18, 62: 293.66, 63: 311.13, 64: 329.63,\n",
    "            65: 349.23, 66: 369.99, 67: 392.00, 68: 415.30, 69: 440.00,\n",
    "            70: 466.16, 71: 493.88, 72: 523.25, 73: 554.37, 74: 587.33,\n",
    "            75: 622.25, 76: 659.25, 77: 698.46, 78: 739.99, 79: 783.99,\n",
    "            80: 830.61, 81: 880.00, 82: 932.33, 83: 987.77, 84: 1046.50\n",
    "        }\n",
    "\n",
    "    def brightness_to_note(self, value):\n",
    "        \"\"\"Convert a color value (0-255) to a MIDI note number (60-84)\"\"\"\n",
    "        min_note = 60\n",
    "        max_note = 84\n",
    "        note = int((value / 255.0) * (max_note - min_note) + min_note)\n",
    "        return max(min(note, max_note), min_note)\n",
    "\n",
    "    def image_to_audio_array(self, image_path, image_size=(24, 24), note_duration=0.12):\n",
    "        \"\"\"Convert RGB image to stereo audio\"\"\"\n",
    "        print(\"[→] Converting image to detailed audio...\")\n",
    "        img = Image.open(image_path).convert('RGB').resize(image_size, Image.Resampling.LANCZOS)\n",
    "        img_array = np.array(img)\n",
    "\n",
    "        sample_rate = 44100\n",
    "        total_samples = int(note_duration * sample_rate)\n",
    "        left_channel = np.zeros(0, dtype=np.float32)\n",
    "        right_channel = np.zeros(0, dtype=np.float32)\n",
    "\n",
    "        for y in range(img_array.shape[0]):\n",
    "            for x in range(img_array.shape[1]):\n",
    "                r, g, b = img_array[y, x]\n",
    "                midi_r = self.brightness_to_note(r)\n",
    "                midi_g = self.brightness_to_note(g)\n",
    "                midi_b = self.brightness_to_note(b)\n",
    "\n",
    "                freq_r = self.note_frequencies.get(midi_r, 440)\n",
    "                freq_g = self.note_frequencies.get(midi_g, 440)\n",
    "                freq_b = self.note_frequencies.get(midi_b, 440)\n",
    "\n",
    "                t = np.linspace(0, note_duration, total_samples, False)\n",
    "                tone = (\n",
    "                    0.33 * np.sin(2 * np.pi * freq_r * t) +\n",
    "                    0.33 * np.sin(2 * np.pi * freq_g * t) +\n",
    "                    0.33 * np.sin(2 * np.pi * freq_b * t)\n",
    "                ).astype(np.float32)\n",
    "\n",
    "                fade_samples = int(0.01 * sample_rate)\n",
    "                for i in range(fade_samples):\n",
    "                    tone[i] *= i / fade_samples\n",
    "                    tone[-(i+1)] *= i / fade_samples\n",
    "\n",
    "                brightness = (r + g + b) / 3.0\n",
    "                volume = brightness / 255.0\n",
    "                tone *= volume\n",
    "\n",
    "                pan = x / image_size[0]\n",
    "                left = tone * (1 - pan)\n",
    "                right = tone * pan\n",
    "\n",
    "                left_channel = np.concatenate([left_channel, left])\n",
    "                right_channel = np.concatenate([right_channel, right])\n",
    "\n",
    "        stereo = np.stack([left_channel, right_channel], axis=1)\n",
    "        return stereo\n",
    "\n",
    "    def save_audio_as_mp3(self, stereo_data, output_path, sample_rate=44100):\n",
    "        \"\"\"Save stereo audio data as MP3\"\"\"\n",
    "        print(\"[→] Saving stereo audio as MP3...\")\n",
    "        stereo_data = np.clip(stereo_data, -1, 1)\n",
    "        stereo_int16 = (stereo_data * 32767).astype(np.int16)\n",
    "        interleaved = stereo_int16.flatten()\n",
    "\n",
    "        audio_segment = AudioSegment(\n",
    "            interleaved.tobytes(),\n",
    "            frame_rate=sample_rate,\n",
    "            sample_width=2,\n",
    "            channels=2\n",
    "        )\n",
    "        audio_segment.export(output_path, format=\"mp3\", bitrate=\"192k\")\n",
    "        print(f\"[✔] MP3 saved: {output_path}\")\n",
    "\n",
    "    def convert_image_to_mp3(self, image_path, output_path, image_size=(24, 24), note_duration=0.12):\n",
    "        try:\n",
    "            print(f\"[→] Starting conversion: {image_path}\")\n",
    "            audio_data = self.image_to_audio_array(image_path, image_size, note_duration)\n",
    "            self.save_audio_as_mp3(audio_data, output_path)\n",
    "            duration = len(audio_data) / 44100\n",
    "            print(f\"[✔] Done! Duration: {duration:.2f}s | Output: {output_path}\")\n",
    "        except Exception as e:\n",
    "            print(f\"[✗] Error: {e}\")\n",
    "            raise\n",
    "\n",
    "# Usage Example\n",
    "def main():\n",
    "    converter = ImageToMusicConverter()\n",
    "    image_path = \"C:/Users/jangi/OneDrive/Desktop/DreamTeam/Music Note/download.jpg\"  # Replace with your image path\n",
    "    output_path = \"output_music.mp3\"\n",
    "\n",
    "    if not os.path.exists(image_path):\n",
    "        print(\"[!] Image not found.\")\n",
    "        return\n",
    "\n",
    "    converter.convert_image_to_mp3(\n",
    "        image_path=image_path,\n",
    "        output_path=output_path,\n",
    "        image_size=(24, 24),\n",
    "        note_duration=0.12\n",
    "    )\n",
    "\n",
    "if __name__ == \"__main__\":\n",
    "    main()\n"
   ]
  },
  {
   "cell_type": "code",
   "execution_count": null,
   "id": "5b4c5853",
   "metadata": {},
   "outputs": [],
   "source": []
  }
 ],
 "metadata": {
  "kernelspec": {
   "display_name": "base",
   "language": "python",
   "name": "python3"
  },
  "language_info": {
   "codemirror_mode": {
    "name": "ipython",
    "version": 3
   },
   "file_extension": ".py",
   "mimetype": "text/x-python",
   "name": "python",
   "nbconvert_exporter": "python",
   "pygments_lexer": "ipython3",
   "version": "3.12.7"
  }
 },
 "nbformat": 4,
 "nbformat_minor": 5
}
